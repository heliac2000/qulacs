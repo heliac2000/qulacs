{
 "cells": [
  {
   "cell_type": "code",
   "execution_count": 1,
   "metadata": {},
   "outputs": [
    {
     "data": {
      "text/html": [
       "<style>table {float: left;}</style>\n"
      ],
      "text/plain": [
       "<IPython.core.display.HTML object>"
      ]
     },
     "metadata": {},
     "output_type": "display_data"
    }
   ],
   "source": [
    "%%html\n",
    "<style>table {float: left;}</style>"
   ]
  },
  {
   "cell_type": "markdown",
   "metadata": {},
   "source": [
    "## 量子回路(JSON形式)における量子素子間の結合制約\n",
    "\n",
    "### 結合制約に対する適合性の検査\n",
    "\n",
    "&ensp;**関数**<br>\n",
    "&emsp;`test_restriction_with_json(json_str: str, qbit_graph: Graph) -> List[int]`<br>\n",
    "&ensp;**ソースコード**<br>\n",
    "&emsp;`qulacs/python/extra/adapt_to_connection_restriction_with_json.py`\n",
    "\n",
    "結合制約(`qbit_graph`パラメータ)を参照して、回路を構成する各ゲートの control qubit とtarget qubit が結合可能かどうかを検査する。\n",
    "\n",
    "control qubit を持たないゲート(H, X など)は検査対象外とするが、SWAP ゲート(control qubit 0 個、target qubit 2 個)は検査対象とする。\n",
    "\n",
    "結合不可の場合は制約条件に不適合であると判定して、全ての不適合ゲートのインデックス(量子回路上での順番)をリストにして返す。\n",
    "\n",
    "| parameter | description |\n",
    "|    :-:    |     :-:     |\n",
    "| json_str   | JSON形式で定義された量子回路 |\n",
    "| qbit_graph | 結合制約を表現するグラフ構造 |\n",
    "\n",
    "<br><br><br><br>\n",
    "\n",
    "### 結合制約に適合させるための SWAP ゲートの配置\n",
    "\n",
    "&ensp;**関数**<br>\n",
    "&emsp;`adapt_to_connection_restriction_with_json(json_str: str, qbit_graph: Graph) -> str`<br>\n",
    "&ensp;**ソースコード**<br>\n",
    "&emsp;`qulacs/python/extra/adapt_to_connection_restriction_with_json.py`\n",
    "\n",
    "`test_restriction_with_json()` の実行で不適合と判定されたゲートに対して、制約条件に適合させるための SWAP ゲートを配置する。\n",
    "\n",
    "具体的には不適合ゲートのターゲット qubit を、制約条件に適合する位置にある qubit と交換する。交換処理に使用する SWAP ゲートにも制約条件が適用されるため、場合によっては複数回の交換処理が発生する。この交換処理の回数を最小化するためにダイクストラ法(Dijkstra's shortest path algorithm)を利用している。\n",
    "\n",
    "交換した qubit は元の位置に戻す必要があるので、ゲートを作用させた後に SWAP ゲートを逆順序に配置している。\n",
    "\n",
    "| parameter | description |\n",
    "|    :-:    |     :-:     |\n",
    "| json_str   | JSON形式で定義された量子回路 |\n",
    "| qbit_graph | 結合制約を表現するグラフ構造 |"
   ]
  },
  {
   "cell_type": "markdown",
   "metadata": {},
   "source": [
    "### 実行例"
   ]
  },
  {
   "cell_type": "code",
   "execution_count": 2,
   "metadata": {},
   "outputs": [],
   "source": [
    "from qulacs import Graph, QuantumCircuit\n",
    "\n",
    "# 検査対象の量子回路を構築\n",
    "circuit = QuantumCircuit(6)\n",
    "circuit.add_X_gate(0)\n",
    "circuit.add_CNOT_gate(0, 1)\n",
    "circuit.add_CNOT_gate(1, 2)\n",
    "circuit.add_CNOT_gate(2, 3)"
   ]
  },
  {
   "cell_type": "code",
   "execution_count": 3,
   "metadata": {
    "scrolled": true
   },
   "outputs": [
    {
     "data": {
      "image/png": "[encoded data removed]",
      "text/plain": [
       "<Figure size 327.397x385.28 with 1 Axes>"
      ]
     },
     "execution_count": 3,
     "metadata": {},
     "output_type": "execute_result"
    }
   ],
   "source": [
    "# 回路図を表示(qiskit)\n",
    "circuit.figure().draw('mpl')"
   ]
  },
  {
   "cell_type": "code",
   "execution_count": 4,
   "metadata": {},
   "outputs": [
    {
     "name": "stdout",
     "output_type": "stream",
     "text": [
      "Populating the interactive namespace from numpy and matplotlib\n"
     ]
    },
    {
     "data": {
      "image/png": "[encoded data removed]",
      "text/plain": [
       "<Figure size 216x108 with 1 Axes>"
      ]
     },
     "metadata": {},
     "output_type": "display_data"
    }
   ],
   "source": [
    "# 量子ビット間の結合を定義\n",
    "graph = {\n",
    "  0: [1, 2],\n",
    "  1: [0, 3],\n",
    "  2: [0, 4],\n",
    "  3: [1, 5],\n",
    "  4: [2, 5],\n",
    "  5: [3, 4]\n",
    "}\n",
    "\n",
    "# 結合状態(グラフ)を可視化\n",
    "import networkx as nx\n",
    "\n",
    "G = nx.Graph()\n",
    "G.add_nodes_from(range(6))\n",
    "G.add_edges_from(\n",
    "    sum([[(kq, q) for q in vq] for kq, vq in graph.items()], []))\n",
    "pos = {\n",
    "  0: (-1, 1), 1: (-1, -1), 2: (0, 1), 3: (0, -1), 4: (1, 1), 5: (1, -1),\n",
    "}\n",
    "\n",
    "%pylab inline --no-import-all\n",
    "pylab.rcParams['figure.figsize'] = (3, 1.5)\n",
    "pylab.rcParams['axes.xmargin'] = 0.1\n",
    "pylab.rcParams['axes.ymargin'] = 0.25\n",
    "pylab.rcParams['axes.edgecolor'] = 'w'\n",
    "\n",
    "nx.draw_networkx(G, pos, font_size=16)\n",
    "nodes = nx.draw_networkx_nodes(G, pos, node_size=500, node_color='w')\n",
    "nodes.set_edgecolor('black')"
   ]
  },
  {
   "cell_type": "code",
   "execution_count": 5,
   "metadata": {},
   "outputs": [
    {
     "name": "stdout",
     "output_type": "stream",
     "text": [
      "{\n",
      "  \"qasm_version\": \"2.0\",\n",
      "  \"include_files\": [\n",
      "    \"qelib1.inc\"\n",
      "  ],\n",
      "  \"qubits\": [\n",
      "    {\n",
      "      \"name\": \"q\",\n",
      "      \"num\": 6\n",
      "    }\n",
      "  ],\n",
      "  \"classical_registers\": [],\n",
      "  \"quantum_gates\": [\n",
      "    {\n",
      "      \"name\": \"x\",\n",
      "      \"param\": null,\n",
      "      \"control\": [],\n",
      "      \"target\": [\n",
      "        {\n",
      "          \"name\": \"q\",\n",
      "          \"idx\": 0\n",
      "        }\n",
      "      ]\n",
      "    },\n",
      "    {\n",
      "      \"name\": \"cx\",\n",
      "      \"param\": null,\n",
      "      \"control\": [\n",
      "        {\n",
      "          \"name\": \"q\",\n",
      "          \"idx\": 0\n",
      "        }\n",
      "      ],\n",
      "      \"target\": [\n",
      "        {\n",
      "          \"name\": \"q\",\n",
      "          \"idx\": 1\n",
      "        }\n",
      "      ]\n",
      "    },\n",
      "    {\n",
      "      \"name\": \"cx\",\n",
      "      \"param\": null,\n",
      "      \"control\": [\n",
      "        {\n",
      "          \"name\": \"q\",\n",
      "          \"idx\": 1\n",
      "        }\n",
      "      ],\n",
      "      \"target\": [\n",
      "        {\n",
      "          \"name\": \"q\",\n",
      "          \"idx\": 2\n",
      "        }\n",
      "      ]\n",
      "    },\n",
      "    {\n",
      "      \"name\": \"cx\",\n",
      "      \"param\": null,\n",
      "      \"control\": [\n",
      "        {\n",
      "          \"name\": \"q\",\n",
      "          \"idx\": 2\n",
      "        }\n",
      "      ],\n",
      "      \"target\": [\n",
      "        {\n",
      "          \"name\": \"q\",\n",
      "          \"idx\": 3\n",
      "        }\n",
      "      ]\n",
      "    }\n",
      "  ],\n",
      "  \"measurements\": []\n",
      "}\n"
     ]
    }
   ],
   "source": [
    "from qulacs import qasm_to_json, json_to_qasm\n",
    "from qulacs import test_restriction_with_json, adapt_to_connection_restriction_with_json\n",
    "\n",
    "# qulacs の内部表現 -> QASM -> JSON format\n",
    "json_str = qasm_to_json(circuit.to_qasm())\n",
    "print(json_str)"
   ]
  },
  {
   "cell_type": "code",
   "execution_count": 6,
   "metadata": {},
   "outputs": [
    {
     "name": "stdout",
     "output_type": "stream",
     "text": [
      "結合制約に適合していないゲートの番号(index): [2, 3]\n"
     ]
    }
   ],
   "source": [
    "# 回路の結合制約をチェック\n",
    "rc = test_restriction_with_json(json_str, graph)\n",
    "if len(rc) == 0:\n",
    "  print(\"結合制約に適合している\")\n",
    "else:\n",
    "  print(f\"結合制約に適合していないゲートの番号(index): {rc}\")"
   ]
  },
  {
   "cell_type": "code",
   "execution_count": 7,
   "metadata": {},
   "outputs": [
    {
     "name": "stdout",
     "output_type": "stream",
     "text": [
      "結合制約に適合している\n"
     ]
    }
   ],
   "source": [
    "# 不適合ゲートの両側に SWAP ゲートを配置\n",
    "fixed_circuit = adapt_to_connection_restriction_with_json(json_str, graph)\n",
    "\n",
    "# 再度、回路の結合制約をチェック\n",
    "rc = test_restriction_with_json(fixed_circuit, graph)\n",
    "if len(rc) == 0:\n",
    "  print(\"結合制約に適合している\")\n",
    "else:\n",
    "  print(f\"結合制約に適合していないゲートの番号(index): {rc}\")"
   ]
  },
  {
   "cell_type": "code",
   "execution_count": 8,
   "metadata": {},
   "outputs": [
    {
     "name": "stdout",
     "output_type": "stream",
     "text": [
      "{\n",
      "  \"qasm_version\": \"2.0\",\n",
      "  \"include_files\": [\n",
      "    \"qelib1.inc\"\n",
      "  ],\n",
      "  \"qubits\": [\n",
      "    {\n",
      "      \"name\": \"q\",\n",
      "      \"num\": 6\n",
      "    }\n",
      "  ],\n",
      "  \"classical_registers\": [],\n",
      "  \"quantum_gates\": [\n",
      "    {\n",
      "      \"name\": \"x\",\n",
      "      \"param\": null,\n",
      "      \"control\": [],\n",
      "      \"target\": [\n",
      "        {\n",
      "          \"name\": \"q\",\n",
      "          \"idx\": 0\n",
      "        }\n",
      "      ]\n",
      "    },\n",
      "    {\n",
      "      \"name\": \"cx\",\n",
      "      \"param\": null,\n",
      "      \"control\": [\n",
      "        {\n",
      "          \"name\": \"q\",\n",
      "          \"idx\": 0\n",
      "        }\n",
      "      ],\n",
      "      \"target\": [\n",
      "        {\n",
      "          \"name\": \"q\",\n",
      "          \"idx\": 1\n",
      "        }\n",
      "      ]\n",
      "    },\n",
      "    {\n",
      "      \"name\": \"swap\",\n",
      "      \"param\": null,\n",
      "      \"control\": [\n",
      "        {\n",
      "          \"name\": \"q\",\n",
      "          \"idx\": 2\n",
      "        }\n",
      "      ],\n",
      "      \"target\": [\n",
      "        {\n",
      "          \"name\": \"q\",\n",
      "          \"idx\": 0\n",
      "        }\n",
      "      ]\n",
      "    },\n",
      "    {\n",
      "      \"name\": \"cx\",\n",
      "      \"param\": null,\n",
      "      \"control\": [\n",
      "        {\n",
      "          \"name\": \"q\",\n",
      "          \"idx\": 1\n",
      "        }\n",
      "      ],\n",
      "      \"target\": [\n",
      "        {\n",
      "          \"name\": \"q\",\n",
      "          \"idx\": 0\n",
      "        }\n",
      "      ]\n",
      "    },\n",
      "    {\n",
      "      \"name\": \"swap\",\n",
      "      \"param\": null,\n",
      "      \"control\": [\n",
      "        {\n",
      "          \"name\": \"q\",\n",
      "          \"idx\": 0\n",
      "        }\n",
      "      ],\n",
      "      \"target\": [\n",
      "        {\n",
      "          \"name\": \"q\",\n",
      "          \"idx\": 2\n",
      "        }\n",
      "      ]\n",
      "    },\n",
      "    {\n",
      "      \"name\": \"swap\",\n",
      "      \"param\": null,\n",
      "      \"control\": [\n",
      "        {\n",
      "          \"name\": \"q\",\n",
      "          \"idx\": 3\n",
      "        }\n",
      "      ],\n",
      "      \"target\": [\n",
      "        {\n",
      "          \"name\": \"q\",\n",
      "          \"idx\": 1\n",
      "        }\n",
      "      ]\n",
      "    },\n",
      "    {\n",
      "      \"name\": \"swap\",\n",
      "      \"param\": null,\n",
      "      \"control\": [\n",
      "        {\n",
      "          \"name\": \"q\",\n",
      "          \"idx\": 1\n",
      "        }\n",
      "      ],\n",
      "      \"target\": [\n",
      "        {\n",
      "          \"name\": \"q\",\n",
      "          \"idx\": 0\n",
      "        }\n",
      "      ]\n",
      "    },\n",
      "    {\n",
      "      \"name\": \"cx\",\n",
      "      \"param\": null,\n",
      "      \"control\": [\n",
      "        {\n",
      "          \"name\": \"q\",\n",
      "          \"idx\": 2\n",
      "        }\n",
      "      ],\n",
      "      \"target\": [\n",
      "        {\n",
      "          \"name\": \"q\",\n",
      "          \"idx\": 0\n",
      "        }\n",
      "      ]\n",
      "    },\n",
      "    {\n",
      "      \"name\": \"swap\",\n",
      "      \"param\": null,\n",
      "      \"control\": [\n",
      "        {\n",
      "          \"name\": \"q\",\n",
      "          \"idx\": 0\n",
      "        }\n",
      "      ],\n",
      "      \"target\": [\n",
      "        {\n",
      "          \"name\": \"q\",\n",
      "          \"idx\": 1\n",
      "        }\n",
      "      ]\n",
      "    },\n",
      "    {\n",
      "      \"name\": \"swap\",\n",
      "      \"param\": null,\n",
      "      \"control\": [\n",
      "        {\n",
      "          \"name\": \"q\",\n",
      "          \"idx\": 1\n",
      "        }\n",
      "      ],\n",
      "      \"target\": [\n",
      "        {\n",
      "          \"name\": \"q\",\n",
      "          \"idx\": 3\n",
      "        }\n",
      "      ]\n",
      "    }\n",
      "  ],\n",
      "  \"measurements\": []\n",
      "}\n"
     ]
    }
   ],
   "source": [
    "# JSON format\n",
    "print(fixed_circuit)"
   ]
  },
  {
   "cell_type": "code",
   "execution_count": 9,
   "metadata": {},
   "outputs": [
    {
     "name": "stdout",
     "output_type": "stream",
     "text": [
      "OPENQASM 2.0;\n",
      "include \"qelib1.inc\";\n",
      "qreg q[6];\n",
      "x q[0];\n",
      "cx q[0], q[1];\n",
      "swap q[2], q[0];\n",
      "cx q[1], q[0];\n",
      "swap q[0], q[2];\n",
      "swap q[3], q[1];\n",
      "swap q[1], q[0];\n",
      "cx q[2], q[0];\n",
      "swap q[0], q[1];\n",
      "swap q[1], q[3];\n"
     ]
    }
   ],
   "source": [
    "# JSON -> QASM format\n",
    "qasm = json_to_qasm(fixed_circuit)\n",
    "print(qasm)"
   ]
  },
  {
   "cell_type": "code",
   "execution_count": 10,
   "metadata": {},
   "outputs": [
    {
     "data": {
      "image/png": "[encoded data removed]",
      "text/plain": [
       "<Figure size 688.597x385.28 with 1 Axes>"
      ]
     },
     "execution_count": 10,
     "metadata": {},
     "output_type": "execute_result"
    }
   ],
   "source": [
    "from qiskit import QuantumCircuit as qc\n",
    "\n",
    "# 回路図を表示\n",
    "qc.from_qasm_str(qasm).draw('mpl', plot_barriers=False)"
   ]
  }
 ],
 "metadata": {
  "kernelspec": {
   "display_name": "Python 3",
   "language": "python",
   "name": "python3"
  },
  "language_info": {
   "codemirror_mode": {
    "name": "ipython",
    "version": 3
   },
   "file_extension": ".py",
   "mimetype": "text/x-python",
   "name": "python",
   "nbconvert_exporter": "python",
   "pygments_lexer": "ipython3",
   "version": "3.8.5"
  }
 },
 "nbformat": 4,
 "nbformat_minor": 4
}
